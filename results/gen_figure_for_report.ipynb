{
 "cells": [
  {
   "cell_type": "code",
   "execution_count": null,
   "id": "9bf9b7c1",
   "metadata": {},
   "outputs": [],
   "source": [
    "import os\n",
    "\n",
    "# Get the absolute path of the parent directory\n",
    "parent_dir = os.path.abspath(os.path.join(os.getcwd(), \"..\"))\n",
    "\n",
    "# Change the working directory to the parent directory\n",
    "os.chdir(parent_dir)"
   ]
  },
  {
   "cell_type": "code",
   "execution_count": null,
   "id": "dc8309ab-f62d-4db0-8ddd-3ebf0b9e48f3",
   "metadata": {},
   "outputs": [],
   "source": [
    "%load_ext autoreload\n",
    "%autoreload 2\n",
    "\n",
    "import argparse\n",
    "from copy import copy\n",
    "\n",
    "from utils.load_model import load_model_and_dataset\n",
    "from utils.plot import plot_gp_vs_cnp_vs_lnp"
   ]
  },
  {
   "cell_type": "markdown",
   "id": "d5315382-023a-460e-b8aa-7a8b6f7ca80d",
   "metadata": {},
   "source": [
    "# Load models and dataloaders"
   ]
  },
  {
   "cell_type": "code",
   "execution_count": null,
   "id": "4076476b-f067-49df-bfa5-019512d326e1",
   "metadata": {},
   "outputs": [],
   "source": [
    "# --- USER INPUTS ---\n",
    "cnp_args = argparse.Namespace(epochs=10,\n",
    "                              batch=32,\n",
    "                              task='regression',\n",
    "                              num_context=100,\n",
    "                              uniform_sampling=True,\n",
    "                              model='CNP')\n",
    "\n",
    "lnp_args = copy(cnp_args)\n",
    "lnp_args.model = \"LNP\"\n",
    "\n",
    "# --- MODEL PATHS ---\n",
    "# Instructions: Fill in the paths to the models you want to load\n",
    "model_paths = {\n",
    "    \"cnp\": \"\",\n",
    "    \"lnp\": \"\"\n",
    "}\n",
    "\n",
    "assert model_paths[\"cnp\"] != \"\", \"Please specify the path to the CNP model\"\n",
    "assert model_paths[\"lnp\"] != \"\", \"Please specify the path to the LNP model\"\n",
    "\n",
    "\n",
    "# --- LOAD ---\n",
    "cnp_model, train_ds, test_ds = load_model_and_dataset(cnp_args, model_path=model_paths[\"cnp\"])\n",
    "lnp_model, _, _ = load_model_and_dataset(lnp_args, model_path=model_paths[\"lnp\"])"
   ]
  },
  {
   "cell_type": "code",
   "execution_count": null,
   "id": "a94a8ad3-2677-4bda-a7c2-fefba9fb3b3e",
   "metadata": {},
   "outputs": [],
   "source": [
    "list_num_context = [5, 10, 20, 40, 100]\n",
    "\n",
    "plot_gp_vs_cnp_vs_lnp(cnp_model=cnp_model,\n",
    "                      lnp_model=lnp_model,\n",
    "                      kernel_length_scale=0.4,  # 0.4 is the default parameter\n",
    "                      list_num_context=list_num_context)  "
   ]
  },
  {
   "cell_type": "code",
   "execution_count": null,
   "id": "a7d61b64-0b40-4cb5-ac5a-baf0a8478aad",
   "metadata": {},
   "outputs": [],
   "source": []
  }
 ],
 "metadata": {
  "kernelspec": {
   "display_name": "tfp:Python",
   "language": "python",
   "name": "conda-env-tfp-py"
  },
  "language_info": {
   "codemirror_mode": {
    "name": "ipython",
    "version": 3
   },
   "file_extension": ".py",
   "mimetype": "text/x-python",
   "name": "python",
   "nbconvert_exporter": "python",
   "pygments_lexer": "ipython3",
   "version": "3.10.8"
  }
 },
 "nbformat": 4,
 "nbformat_minor": 5
}
