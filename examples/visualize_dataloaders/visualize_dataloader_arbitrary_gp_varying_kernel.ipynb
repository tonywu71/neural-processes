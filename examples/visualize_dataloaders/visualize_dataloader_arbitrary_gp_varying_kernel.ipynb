{
 "cells": [
  {
   "cell_type": "code",
   "execution_count": 1,
   "id": "e586ab67-4048-43a3-a90b-9f257ffd658c",
   "metadata": {},
   "outputs": [],
   "source": [
    "import os\n",
    "\n",
    "# Get the absolute path of the parent directory\n",
    "parent_dir = os.path.abspath(os.path.join(os.getcwd(), \"../..\"))\n",
    "\n",
    "# Change the working directory to the parent directory\n",
    "os.chdir(parent_dir)"
   ]
  },
  {
   "cell_type": "markdown",
   "id": "5599fa24-4f13-4a76-a004-239d1fcee6db",
   "metadata": {},
   "source": [
    "# Imports"
   ]
  },
  {
   "cell_type": "code",
   "execution_count": 2,
   "id": "367cb8a1-ed6c-46a3-b4f8-0f063b80ba00",
   "metadata": {},
   "outputs": [
    {
     "name": "stderr",
     "output_type": "stream",
     "text": [
      "2023-03-25 18:26:55.215436: I tensorflow/core/platform/cpu_feature_guard.cc:193] This TensorFlow binary is optimized with oneAPI Deep Neural Network Library (oneDNN) to use the following CPU instructions in performance-critical operations:  AVX2 AVX512F FMA\n",
      "To enable them in other operations, rebuild TensorFlow with the appropriate compiler flags.\n",
      "2023-03-25 18:26:55.552602: W tensorflow/stream_executor/platform/default/dso_loader.cc:64] Could not load dynamic library 'libcudart.so.11.0'; dlerror: libcudart.so.11.0: cannot open shared object file: No such file or directory\n",
      "2023-03-25 18:26:55.552813: I tensorflow/stream_executor/cuda/cudart_stub.cc:29] Ignore above cudart dlerror if you do not have a GPU set up on your machine.\n",
      "2023-03-25 18:26:55.593008: E tensorflow/stream_executor/cuda/cuda_blas.cc:2981] Unable to register cuBLAS factory: Attempting to register factory for plugin cuBLAS when one has already been registered\n",
      "2023-03-25 18:26:56.927016: W tensorflow/stream_executor/platform/default/dso_loader.cc:64] Could not load dynamic library 'libnvinfer.so.7'; dlerror: libnvinfer.so.7: cannot open shared object file: No such file or directory\n",
      "2023-03-25 18:26:56.927092: W tensorflow/stream_executor/platform/default/dso_loader.cc:64] Could not load dynamic library 'libnvinfer_plugin.so.7'; dlerror: libnvinfer_plugin.so.7: cannot open shared object file: No such file or directory\n",
      "2023-03-25 18:26:56.927100: W tensorflow/compiler/tf2tensorrt/utils/py_utils.cc:38] TF-TRT Warning: Cannot dlopen some TensorRT libraries. If you would like to use Nvidia GPU with TensorRT, please make sure the missing libraries mentioned above are installed properly.\n",
      "/home/studio-lab-user/.conda/envs/tfp/lib/python3.10/site-packages/tqdm/auto.py:22: TqdmWarning: IProgress not found. Please update jupyter and ipywidgets. See https://ipywidgets.readthedocs.io/en/stable/user_install.html\n",
      "  from .autonotebook import tqdm as notebook_tqdm\n"
     ]
    }
   ],
   "source": [
    "%load_ext autoreload\n",
    "%autoreload 2\n",
    "\n",
    "import datetime\n",
    "\n",
    "import tensorflow as tf\n",
    "import tensorflow_probability as tfp\n",
    "tfd = tfp.distributions\n",
    "\n",
    "from dataloader.load_regression_data_from_arbitrary_gp_varying_kernel import RegressionDataGeneratorArbitraryGPWithVaryingKernel\n",
    "\n",
    "from utils.plot import plot_learning_curve\n",
    "from utils.plot import plot_gp_vs_cnp_vs_lnp_varying_kernel\n",
    "\n",
    "from utils.gaussian_processes.gp_model import plot_mean_with_std\n",
    "from utils.gaussian_processes.plot_gp_utils import plot_preds_from_ds_test"
   ]
  },
  {
   "cell_type": "markdown",
   "id": "b98bb870-48fc-485c-b5bc-969bbbc2c54c",
   "metadata": {},
   "source": [
    "# DataGenerator"
   ]
  },
  {
   "cell_type": "code",
   "execution_count": 3,
   "id": "f9303f2b-e435-4878-943b-03d1acf7a7f8",
   "metadata": {},
   "outputs": [
    {
     "name": "stderr",
     "output_type": "stream",
     "text": [
      "2023-03-25 18:26:58.844168: W tensorflow/stream_executor/platform/default/dso_loader.cc:64] Could not load dynamic library 'libcuda.so.1'; dlerror: libcuda.so.1: cannot open shared object file: No such file or directory\n",
      "2023-03-25 18:26:58.844204: W tensorflow/stream_executor/cuda/cuda_driver.cc:263] failed call to cuInit: UNKNOWN ERROR (303)\n",
      "2023-03-25 18:26:58.844232: I tensorflow/stream_executor/cuda/cuda_diagnostics.cc:156] kernel driver does not appear to be running on this host (default): /proc/driver/nvidia/version does not exist\n",
      "2023-03-25 18:26:58.844578: I tensorflow/core/platform/cpu_feature_guard.cc:193] This TensorFlow binary is optimized with oneAPI Deep Neural Network Library (oneDNN) to use the following CPU instructions in performance-critical operations:  AVX2 AVX512F FMA\n",
      "To enable them in other operations, rebuild TensorFlow with the appropriate compiler flags.\n"
     ]
    }
   ],
   "source": [
    "data_generator = RegressionDataGeneratorArbitraryGPWithVaryingKernel(\n",
    "    iterations=25,\n",
    "    batch_size=32,\n",
    "    min_num_context=3,\n",
    "    max_num_context=40,\n",
    "    min_num_target=2,\n",
    "    max_num_target=40,\n",
    "    min_x_val_uniform=-2,\n",
    "    max_x_val_uniform=2,\n",
    "    min_kernel_length_scale=0.1,\n",
    "    max_kernel_length_scale=1.\n",
    ")"
   ]
  },
  {
   "cell_type": "code",
   "execution_count": 4,
   "id": "f3a59b64-9324-48c2-8bda-c2c69f28ad4f",
   "metadata": {},
   "outputs": [],
   "source": [
    "(context_x, context_y, target_x), target_y = next(iter(data_generator.train_ds))"
   ]
  },
  {
   "cell_type": "code",
   "execution_count": 5,
   "id": "e172b4a9-eb95-48d1-a8c1-0917520ed428",
   "metadata": {},
   "outputs": [
    {
     "data": {
      "image/png": "[encoded data removed]",
      "text/plain": [
       "<Figure size 500x200 with 1 Axes>"
      ]
     },
     "metadata": {},
     "output_type": "display_data"
    }
   ],
   "source": [
    "data_generator.plot_first_elt_of_random_batch(figsize=(5, 2));"
   ]
  },
  {
   "cell_type": "code",
   "execution_count": null,
   "id": "077b2fdd-0e44-4360-bf9b-12a690cd765c",
   "metadata": {},
   "outputs": [],
   "source": [
    "for (context_x, context_y, target_x), target_y in data_generator.train_ds.take(5):\n",
    "    RegressionDataGeneratorArbitraryGPWithVaryingKernel.plot_first_elt_of_batch(context_x, context_y, target_x, target_y,\n",
    "                                                                                figsize=(5, 2));"
   ]
  },
  {
   "cell_type": "code",
   "execution_count": null,
   "id": "c3aa86f0-8b0d-4fad-94dc-be5f5d6b1658",
   "metadata": {},
   "outputs": [],
   "source": []
  }
 ],
 "metadata": {
  "kernelspec": {
   "display_name": "tfp:Python",
   "language": "python",
   "name": "conda-env-tfp-py"
  },
  "language_info": {
   "codemirror_mode": {
    "name": "ipython",
    "version": 3
   },
   "file_extension": ".py",
   "mimetype": "text/x-python",
   "name": "python",
   "nbconvert_exporter": "python",
   "pygments_lexer": "ipython3",
   "version": "3.10.8"
  }
 },
 "nbformat": 4,
 "nbformat_minor": 5
}
