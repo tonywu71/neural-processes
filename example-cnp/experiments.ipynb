{
 "cells": [
  {
   "cell_type": "code",
   "execution_count": 1,
   "id": "9c66260a-afba-4415-aabe-cc09ead85508",
   "metadata": {},
   "outputs": [],
   "source": [
    "import tensorflow as tf\n",
    "from nueral_process_model_conditional import *\n",
    "from utils import PlotCallback, get_gp_curve_generator"
   ]
  },
  {
   "cell_type": "markdown",
   "id": "83589cd4-ae37-4a54-ab9d-e457bc3eae14",
   "metadata": {},
   "source": [
    "# DataLoader"
   ]
  },
  {
   "cell_type": "code",
   "execution_count": 2,
   "id": "9c31231f-48aa-40e8-b995-3b1c0260ff56",
   "metadata": {},
   "outputs": [],
   "source": [
    "BATCH_SIZE = 32\n",
    "EPOCHS = 10"
   ]
  },
  {
   "cell_type": "code",
   "execution_count": 3,
   "id": "f292cce0-c198-4728-be68-9cf7fcceb47e",
   "metadata": {},
   "outputs": [
    {
     "name": "stdout",
     "output_type": "stream",
     "text": [
      "Metal device set to: Apple M1\n"
     ]
    },
    {
     "name": "stderr",
     "output_type": "stream",
     "text": [
      "2023-02-04 16:20:10.360847: I tensorflow/core/common_runtime/pluggable_device/pluggable_device_factory.cc:306] Could not identify NUMA node of platform GPU ID 0, defaulting to 0. Your kernel may not have been built with NUMA support.\n",
      "2023-02-04 16:20:10.360977: I tensorflow/core/common_runtime/pluggable_device/pluggable_device_factory.cc:272] Created TensorFlow device (/job:localhost/replica:0/task:0/device:GPU:0 with 0 MB memory) -> physical PluggableDevice (device: 0, name: METAL, pci bus id: <undefined>)\n"
     ]
    }
   ],
   "source": [
    "# train_ds = tf.data.Dataset.from_generator(\n",
    "#     get_gp_curve_generator(\n",
    "#         iterations=250,\n",
    "#         batch_size=BATCH_SIZE,\n",
    "#         max_num_context=10,\n",
    "#         testing=False\n",
    "#     ),\n",
    "#     output_signature=(\n",
    "#         ((\n",
    "#             tf.TensorSpec(shape=(), dtype=tf.float32),\n",
    "#             tf.TensorSpec(shape=(), dtype=tf.float32),\n",
    "#             tf.TensorSpec(shape=(), dtype=tf.float32)\n",
    "#         ),\n",
    "#         tf.TensorSpec(shape=(), dtype=tf.float32)))\n",
    "# )\n",
    "\n",
    "\n",
    "train_ds = tf.data.Dataset.from_generator(\n",
    "    get_gp_curve_generator(\n",
    "        iterations=250,\n",
    "        batch_size=BATCH_SIZE,\n",
    "        max_num_context=10,\n",
    "        testing=False),\n",
    "    output_types=((tf.float32, tf.float32, tf.float32), tf.float32)\n",
    ")\n",
    "\n",
    "test_ds = tf.data.Dataset.from_generator(\n",
    "    get_gp_curve_generator(\n",
    "        iterations=250,\n",
    "        batch_size=1,\n",
    "        testing=True),\n",
    "    output_types=((tf.float32, tf.float32, tf.float32), tf.float32)\n",
    ")"
   ]
  },
  {
   "cell_type": "code",
   "execution_count": 4,
   "id": "aed86532-74b5-415e-8cba-6c5e96b11557",
   "metadata": {},
   "outputs": [],
   "source": [
    "iterator = get_gp_curve_generator(\n",
    "        iterations=250,\n",
    "        batch_size=2,\n",
    "        testing=True)()"
   ]
  },
  {
   "cell_type": "code",
   "execution_count": 5,
   "id": "48053835-877b-4bac-b798-78da044f4fec",
   "metadata": {},
   "outputs": [],
   "source": [
    "(context_x, context_y, target_x), target_y = next(iterator)"
   ]
  },
  {
   "cell_type": "code",
   "execution_count": 6,
   "id": "a555f25c-1505-4c10-9fbe-0da557ac0657",
   "metadata": {},
   "outputs": [
    {
     "data": {
      "text/plain": [
       "TensorShape([2, 9, 1])"
      ]
     },
     "execution_count": 6,
     "metadata": {},
     "output_type": "execute_result"
    }
   ],
   "source": [
    "context_x.shape"
   ]
  },
  {
   "cell_type": "code",
   "execution_count": 7,
   "id": "85b16aee-a210-4ddb-8489-1d8b767eff81",
   "metadata": {},
   "outputs": [
    {
     "data": {
      "text/plain": [
       "TensorShape([2, 9, 1])"
      ]
     },
     "execution_count": 7,
     "metadata": {},
     "output_type": "execute_result"
    }
   ],
   "source": [
    "context_y.shape"
   ]
  },
  {
   "cell_type": "code",
   "execution_count": 8,
   "id": "f6c0290e-b3a6-43e0-a69c-f1876f4b4998",
   "metadata": {},
   "outputs": [
    {
     "data": {
      "text/plain": [
       "TensorShape([2, 400, 1])"
      ]
     },
     "execution_count": 8,
     "metadata": {},
     "output_type": "execute_result"
    }
   ],
   "source": [
    "target_x.shape"
   ]
  },
  {
   "cell_type": "code",
   "execution_count": 9,
   "id": "ded0e959-167a-44b3-9d11-81debb28c514",
   "metadata": {},
   "outputs": [
    {
     "data": {
      "text/plain": [
       "TensorShape([2, 400, 1])"
      ]
     },
     "execution_count": 9,
     "metadata": {},
     "output_type": "execute_result"
    }
   ],
   "source": [
    "target_y.shape"
   ]
  },
  {
   "cell_type": "code",
   "execution_count": 10,
   "id": "78d0cc3e-d407-4a1e-81fc-c777e4730999",
   "metadata": {},
   "outputs": [
    {
     "data": {
      "text/plain": [
       "<FlatMapDataset element_spec=((TensorSpec(shape=<unknown>, dtype=tf.float32, name=None), TensorSpec(shape=<unknown>, dtype=tf.float32, name=None), TensorSpec(shape=<unknown>, dtype=tf.float32, name=None)), TensorSpec(shape=<unknown>, dtype=tf.float32, name=None))>"
      ]
     },
     "execution_count": 10,
     "metadata": {},
     "output_type": "execute_result"
    }
   ],
   "source": [
    "train_ds"
   ]
  },
  {
   "cell_type": "code",
   "execution_count": 11,
   "id": "858e4253-eab3-494d-9621-a07a0a2c95f7",
   "metadata": {},
   "outputs": [
    {
     "data": {
      "text/plain": [
       "((TensorSpec(shape=<unknown>, dtype=tf.float32, name=None),\n",
       "  TensorSpec(shape=<unknown>, dtype=tf.float32, name=None),\n",
       "  TensorSpec(shape=<unknown>, dtype=tf.float32, name=None)),\n",
       " TensorSpec(shape=<unknown>, dtype=tf.float32, name=None))"
      ]
     },
     "execution_count": 11,
     "metadata": {},
     "output_type": "execute_result"
    }
   ],
   "source": [
    "train_ds.element_spec"
   ]
  },
  {
   "cell_type": "code",
   "execution_count": 12,
   "id": "693cbf8a-df6c-4eb0-9f8f-24964ef2ff35",
   "metadata": {},
   "outputs": [
    {
     "data": {
      "text/plain": [
       "<tf.Tensor: shape=(), dtype=int64, numpy=-2>"
      ]
     },
     "execution_count": 12,
     "metadata": {},
     "output_type": "execute_result"
    }
   ],
   "source": [
    "tf.data.experimental.cardinality(train_ds)"
   ]
  },
  {
   "cell_type": "markdown",
   "id": "07fed083-5b5b-42ce-a37f-c3c2d62769f8",
   "metadata": {},
   "source": [
    "# Loss"
   ]
  },
  {
   "cell_type": "code",
   "execution_count": 13,
   "id": "53e87342-09b1-4566-95a0-576b8b414112",
   "metadata": {},
   "outputs": [],
   "source": [
    "import tensorflow_probability as tfp\n",
    "tfd = tfp.distributions"
   ]
  },
  {
   "cell_type": "code",
   "execution_count": 57,
   "id": "04a8fd4b-fd2f-49b4-89fc-bc7d38b10736",
   "metadata": {},
   "outputs": [],
   "source": [
    "# Initialize a single 2-variate Gaussian.\n",
    "dist = tfd.MultivariateNormalDiag(\n",
    "    loc=[1., -1],\n",
    "    scale_diag=[1, 2.])"
   ]
  },
  {
   "cell_type": "code",
   "execution_count": 58,
   "id": "1b4c9782-b8d4-41d0-ad3b-ba84fc7b9386",
   "metadata": {},
   "outputs": [
    {
     "data": {
      "text/plain": [
       "<tf.Tensor: shape=(), dtype=float32, numpy=-3.1560242>"
      ]
     },
     "execution_count": 58,
     "metadata": {},
     "output_type": "execute_result"
    }
   ],
   "source": [
    "dist.log_prob(value=[0, 0])"
   ]
  },
  {
   "cell_type": "markdown",
   "id": "b6ad3cf8-4a70-43cb-b6c6-d115531f820a",
   "metadata": {},
   "source": [
    "# Model"
   ]
  },
  {
   "cell_type": "code",
   "execution_count": 19,
   "id": "9cebed3e-a6d9-4885-bfcc-f332f2adcc11",
   "metadata": {},
   "outputs": [],
   "source": [
    "encoder_dims = [128, 128, 128, 128]\n",
    "decoder_dims = [128, 128, 2]"
   ]
  },
  {
   "cell_type": "code",
   "execution_count": 20,
   "id": "4c58fd47-fe38-4a92-af00-530af01236c8",
   "metadata": {},
   "outputs": [],
   "source": [
    "def loss(target_y, pred_y):\n",
    "    # Get the distribution\n",
    "    mu, sigma = tf.split(pred_y, num_or_size_splits=2, axis=-1)\n",
    "    dist = tfd.MultivariateNormalDiag(loc=mu, scale_diag=sigma)\n",
    "    return -dist.log_prob(target_y)"
   ]
  },
  {
   "cell_type": "code",
   "execution_count": 34,
   "id": "a90616eb-dcb0-4b8c-a4cc-f8287edeb409",
   "metadata": {},
   "outputs": [],
   "source": [
    "model = ConditionalNeuralProcess(encoder_dims, decoder_dims)"
   ]
  },
  {
   "cell_type": "code",
   "execution_count": 35,
   "id": "37d0838d-0937-4f3d-aab3-91eb7b693715",
   "metadata": {},
   "outputs": [
    {
     "data": {
      "text/plain": [
       "<model.ConditionalNeuralProcess at 0x2e53d0370>"
      ]
     },
     "execution_count": 35,
     "metadata": {},
     "output_type": "execute_result"
    }
   ],
   "source": [
    "model"
   ]
  },
  {
   "cell_type": "code",
   "execution_count": 40,
   "id": "a628d49a-f42d-4971-8027-40ff7cc9a61a",
   "metadata": {},
   "outputs": [],
   "source": [
    "model.compile(loss=loss, optimizer='adam')"
   ]
  },
  {
   "cell_type": "code",
   "execution_count": 41,
   "id": "73f94374-134f-40a8-991f-09c31c71041c",
   "metadata": {},
   "outputs": [
    {
     "name": "stderr",
     "output_type": "stream",
     "text": [
      "2023-02-04 16:36:19.284545: I tensorflow/core/common_runtime/pluggable_device/pluggable_device_factory.cc:306] Could not identify NUMA node of platform GPU ID 0, defaulting to 0. Your kernel may not have been built with NUMA support.\n",
      "2023-02-04 16:36:19.284580: I tensorflow/core/common_runtime/pluggable_device/pluggable_device_factory.cc:272] Created TensorFlow device (/device:GPU:0 with 0 MB memory) -> physical PluggableDevice (device: 0, name: METAL, pci bus id: <undefined>)\n"
     ]
    },
    {
     "data": {
      "text/plain": [
       "'/device:GPU:0'"
      ]
     },
     "execution_count": 41,
     "metadata": {},
     "output_type": "execute_result"
    }
   ],
   "source": [
    "tf.test.gpu_device_name()"
   ]
  },
  {
   "cell_type": "code",
   "execution_count": 55,
   "id": "b13ee28f-df02-49b9-9677-f6bdff4b1b31",
   "metadata": {},
   "outputs": [
    {
     "name": "stdout",
     "output_type": "stream",
     "text": [
      "Epoch 1/10\n",
      "250/250 [==============================] - 25s 99ms/step - loss: 0.6126\n",
      "Epoch 2/10\n",
      "250/250 [==============================] - 24s 98ms/step - loss: 0.5544\n",
      "Epoch 3/10\n",
      "250/250 [==============================] - 24s 98ms/step - loss: 0.5009\n",
      "Epoch 4/10\n",
      "250/250 [==============================] - 25s 100ms/step - loss: 0.4405\n",
      "Epoch 5/10\n",
      "250/250 [==============================] - 25s 99ms/step - loss: 0.4168\n",
      "Epoch 6/10\n",
      "250/250 [==============================] - 25s 99ms/step - loss: 0.3739\n",
      "Epoch 7/10\n",
      "250/250 [==============================] - 25s 101ms/step - loss: 0.3341\n",
      "Epoch 8/10\n",
      "250/250 [==============================] - 25s 100ms/step - loss: 0.3016\n",
      "Epoch 9/10\n",
      "250/250 [==============================] - 26s 102ms/step - loss: 0.2646\n",
      "Epoch 10/10\n",
      "250/250 [==============================] - 26s 104ms/step - loss: 0.2161\n"
     ]
    },
    {
     "data": {
      "text/plain": [
       "<keras.callbacks.History at 0x2e282f490>"
      ]
     },
     "execution_count": 55,
     "metadata": {},
     "output_type": "execute_result"
    }
   ],
   "source": [
    "model.fit(train_ds, epochs=EPOCHS)"
   ]
  },
  {
   "cell_type": "code",
   "execution_count": null,
   "id": "a20c0b14-f3ab-494b-aeab-aa76ac4e91c3",
   "metadata": {},
   "outputs": [],
   "source": []
  }
 ],
 "metadata": {
  "kernelspec": {
   "display_name": "Python 3 (ipykernel)",
   "language": "python",
   "name": "python3"
  },
  "language_info": {
   "codemirror_mode": {
    "name": "ipython",
    "version": 3
   },
   "file_extension": ".py",
   "mimetype": "text/x-python",
   "name": "python",
   "nbconvert_exporter": "python",
   "pygments_lexer": "ipython3",
   "version": "3.10.8"
  }
 },
 "nbformat": 4,
 "nbformat_minor": 5
}
